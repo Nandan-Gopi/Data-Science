{
 "cells": [
  {
   "cell_type": "code",
   "execution_count": 4,
   "id": "676e96a8-9445-47b3-8783-559178d998a1",
   "metadata": {},
   "outputs": [
    {
     "data": {
      "text/html": [
       "<div>\n",
       "<style scoped>\n",
       "    .dataframe tbody tr th:only-of-type {\n",
       "        vertical-align: middle;\n",
       "    }\n",
       "\n",
       "    .dataframe tbody tr th {\n",
       "        vertical-align: top;\n",
       "    }\n",
       "\n",
       "    .dataframe thead th {\n",
       "        text-align: right;\n",
       "    }\n",
       "</style>\n",
       "<table border=\"1\" class=\"dataframe\">\n",
       "  <thead>\n",
       "    <tr style=\"text-align: right;\">\n",
       "      <th></th>\n",
       "      <th>Smart Thermostat</th>\n",
       "      <th>Smart Light</th>\n",
       "    </tr>\n",
       "  </thead>\n",
       "  <tbody>\n",
       "    <tr>\n",
       "      <th>Very Satisfied</th>\n",
       "      <td>50</td>\n",
       "      <td>70</td>\n",
       "    </tr>\n",
       "    <tr>\n",
       "      <th>Satisfied</th>\n",
       "      <td>80</td>\n",
       "      <td>100</td>\n",
       "    </tr>\n",
       "    <tr>\n",
       "      <th>Neutral</th>\n",
       "      <td>60</td>\n",
       "      <td>90</td>\n",
       "    </tr>\n",
       "    <tr>\n",
       "      <th>Unsatisfied</th>\n",
       "      <td>30</td>\n",
       "      <td>50</td>\n",
       "    </tr>\n",
       "    <tr>\n",
       "      <th>Very Unsatisfied</th>\n",
       "      <td>20</td>\n",
       "      <td>50</td>\n",
       "    </tr>\n",
       "  </tbody>\n",
       "</table>\n",
       "</div>"
      ],
      "text/plain": [
       "                  Smart Thermostat  Smart Light\n",
       "Very Satisfied                  50           70\n",
       "Satisfied                       80          100\n",
       "Neutral                         60           90\n",
       "Unsatisfied                     30           50\n",
       "Very Unsatisfied                20           50"
      ]
     },
     "execution_count": 4,
     "metadata": {},
     "output_type": "execute_result"
    }
   ],
   "source": [
    "\n",
    "import pandas as pd\n",
    "from scipy.stats import chi2_contingency, chi2\n",
    "\n",
    "# Creating the contingency table\n",
    "data = {\n",
    "    \"Smart Thermostat\": [50, 80, 60, 30, 20],\n",
    "    \"Smart Light\": [70, 100, 90, 50, 50]\n",
    "}\n",
    "index = [\"Very Satisfied\", \"Satisfied\", \"Neutral\", \"Unsatisfied\", \"Very Unsatisfied\"]\n",
    "contingency_table = pd.DataFrame(data, index=index)\n",
    "contingency_table"
   ]
  },
  {
   "cell_type": "code",
   "execution_count": 5,
   "id": "94be5560-08f6-4a7d-9f74-c908b13187b4",
   "metadata": {},
   "outputs": [
    {
     "data": {
      "text/plain": [
       "(5.638227513227513,\n",
       " 0.22784371130697179,\n",
       " 4,\n",
       "                   Smart Thermostat  Smart Light\n",
       " Very Satisfied                48.0         72.0\n",
       " Satisfied                     72.0        108.0\n",
       " Neutral                       60.0         90.0\n",
       " Unsatisfied                   32.0         48.0\n",
       " Very Unsatisfied              28.0         42.0)"
      ]
     },
     "execution_count": 5,
     "metadata": {},
     "output_type": "execute_result"
    }
   ],
   "source": [
    "# Perform the Chi-Square Test\n",
    "chi2_stat, p_val, dof, expected = chi2_contingency(contingency_table)\n",
    "expected_df = pd.DataFrame(expected, index=index, columns=[\"Smart Thermostat\", \"Smart Light\"])\n",
    "\n",
    "chi2_stat, p_val, dof, expected_df"
   ]
  },
  {
   "cell_type": "code",
   "execution_count": 6,
   "id": "4844c37d-e8ea-4b3a-8383-5d7664de1693",
   "metadata": {},
   "outputs": [
    {
     "data": {
      "text/plain": [
       "(9.487729036781154,\n",
       " 'Fail to reject the null hypothesis: No significant association.')"
      ]
     },
     "execution_count": 6,
     "metadata": {},
     "output_type": "execute_result"
    }
   ],
   "source": [
    "\n",
    "# Determine the critical value at alpha = 0.05\n",
    "alpha = 0.05\n",
    "critical_value = chi2.ppf(1 - alpha, dof)\n",
    "\n",
    "# Conclusion\n",
    "if chi2_stat > critical_value:\n",
    "    decision = \"Reject the null hypothesis: Significant association exists.\"\n",
    "else:\n",
    "    decision = \"Fail to reject the null hypothesis: No significant association.\"\n",
    "\n",
    "critical_value, decision"
   ]
  },
  {
   "cell_type": "markdown",
   "id": "6e2d09f1-f20a-408e-996c-894d3a20a0e9",
   "metadata": {},
   "source": [
    "## 4.2 task\n"
   ]
  },
  {
   "cell_type": "code",
   "execution_count": 9,
   "id": "ec23c1cd-db52-4a08-93db-b65bdda1e9b5",
   "metadata": {},
   "outputs": [
    {
     "name": "stdout",
     "output_type": "stream",
     "text": [
      "Test Statistic (Z): -38.0000\n",
      "Critical Value (Z_critical) at 5% significance level: 1.6449\n",
      "Decision: Fail to reject the null hypothesis\n",
      "Conclusion: There is not enough evidence to support the claim that the weekly operating costs are higher than the model suggests.\n"
     ]
    }
   ],
   "source": [
    "sample_mean = 3050\n",
    "x_mean = 600\n",
    "theoretical_mean = 1000 + 5 * x_mean\n",
    "sigma = 5 * 25\n",
    "n = 25\n",
    "\n",
    "standard_error = sigma / (n ** 0.5)\n",
    "\n",
    "z = (sample_mean - theoretical_mean) / standard_error\n",
    "print(f\"Test Statistic (Z): {z:.4f}\")\n",
    "\n",
    "from scipy.stats import norm\n",
    "\n",
    "alpha = 0.05\n",
    "z_critical = norm.ppf(1 - alpha)\n",
    "print(f\"Critical Value (Z_critical) at 5% significance level: {z_critical:.4f}\")\n",
    "\n",
    "if z > z_critical:\n",
    "    decision = \"Reject the null hypothesis\"\n",
    "else:\n",
    "    decision = \"Fail to reject the null hypothesis\"\n",
    "\n",
    "print(f\"Decision: {decision}\")\n",
    "\n",
    "if z > z_critical:\n",
    "    conclusion = \"There is strong evidence to support the claim that the weekly operating costs are higher than the model suggests.\"\n",
    "else:\n",
    "    conclusion = \"There is not enough evidence to support the claim that the weekly operating costs are higher than the model suggests.\"\n",
    "\n",
    "print(f\"Conclusion: {conclusion}\")\n"
   ]
  }
 ],
 "metadata": {
  "kernelspec": {
   "display_name": "Python 3 (ipykernel)",
   "language": "python",
   "name": "python3"
  },
  "language_info": {
   "codemirror_mode": {
    "name": "ipython",
    "version": 3
   },
   "file_extension": ".py",
   "mimetype": "text/x-python",
   "name": "python",
   "nbconvert_exporter": "python",
   "pygments_lexer": "ipython3",
   "version": "3.12.7"
  }
 },
 "nbformat": 4,
 "nbformat_minor": 5
}
