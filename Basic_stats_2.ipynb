{
 "cells": [
  {
   "cell_type": "code",
   "execution_count": 3,
   "id": "18142818-9b56-451b-bb9b-8b881cb20ccb",
   "metadata": {
    "id": "18142818-9b56-451b-bb9b-8b881cb20ccb"
   },
   "outputs": [],
   "source": [
    "#Build 99% Confidence Interval Using Sample Standard Deviation"
   ]
  },
  {
   "cell_type": "code",
   "execution_count": 4,
   "id": "08614c5a-535f-428c-9a49-499e335f3b0e",
   "metadata": {
    "id": "08614c5a-535f-428c-9a49-499e335f3b0e",
    "outputId": "897f0fd7-b616-4b23-93fe-bc9222b3d622"
   },
   "outputs": [
    {
     "name": "stdout",
     "output_type": "stream",
     "text": [
      "Sample mean: 1.24 million characters\n",
      "Sample standard deviation: 0.193 million characters\n",
      "t-critical value: 2.977\n",
      "99% confidence interval (t-distribution): (1.0901973384384906, 1.3871359948948425)\n"
     ]
    }
   ],
   "source": [
    "import numpy as np\n",
    "import scipy.stats as stats\n",
    "data = [1.13, 1.55, 1.43, 0.92, 1.25, 1.36, 1.32, 0.85, 1.07, 1.48, 1.20, 1.33, 1.18, 1.22, 1.29]\n",
    "\n",
    "n = len(data)\n",
    "\n",
    "mean_sample = np.mean(data)\n",
    "std_sample = np.std(data, ddof=1)\n",
    "\n",
    "df = n - 1\n",
    "\n",
    "confidence_level = 0.99\n",
    "alpha = 1 - confidence_level\n",
    "t_critical = stats.t.ppf(1 - alpha/2, df)\n",
    "\n",
    "margin_of_error_sample = t_critical * (std_sample / np.sqrt(n))\n",
    "confidence_interval_sample = (mean_sample - margin_of_error_sample, mean_sample + margin_of_error_sample)\n",
    "\n",
    "print(f\"Sample mean: {mean_sample:.2f} million characters\")\n",
    "print(f\"Sample standard deviation: {std_sample:.3f} million characters\")\n",
    "print(f\"t-critical value: {t_critical:.3f}\")\n",
    "print(f\"99% confidence interval (t-distribution): {confidence_interval_sample}\")\n"
   ]
  },
  {
   "cell_type": "code",
   "execution_count": 5,
   "id": "7a9bac5d-a9f7-47f6-bc24-00c4aae277c0",
   "metadata": {
    "id": "7a9bac5d-a9f7-47f6-bc24-00c4aae277c0"
   },
   "outputs": [],
   "source": [
    "#Build 99% Confidence Interval Using Known Population Standard Deviation"
   ]
  },
  {
   "cell_type": "code",
   "execution_count": 6,
   "id": "ca5c42e6-0089-4b5c-a99d-cb4201c08408",
   "metadata": {
    "id": "ca5c42e6-0089-4b5c-a99d-cb4201c08408",
    "outputId": "2a06c293-d56a-4422-a7e5-7ad7467816e7"
   },
   "outputs": [
    {
     "name": "stdout",
     "output_type": "stream",
     "text": [
      "Sample mean: 1.24 million characters\n",
      "Known population standard deviation: 0.20 million characters\n",
      "z-critical value: 2.576\n",
      "99% confidence interval (z-distribution): (1.1056514133957607, 1.3716819199375725)\n"
     ]
    }
   ],
   "source": [
    "import numpy as np\n",
    "import scipy.stats as stats\n",
    "\n",
    "data = [1.13, 1.55, 1.43, 0.92, 1.25, 1.36, 1.32, 0.85, 1.07, 1.48, 1.20, 1.33, 1.18, 1.22, 1.29]\n",
    "n = len(data)\n",
    "\n",
    "mean_sample = np.mean(data)\n",
    "\n",
    "std_population = 0.2\n",
    "\n",
    "confidence_level = 0.99\n",
    "alpha = 1 - confidence_level\n",
    "z_critical = stats.norm.ppf(1 - alpha/2)\n",
    "\n",
    "margin_of_error_pop = z_critical * (std_population / np.sqrt(n))\n",
    "confidence_interval_pop = (mean_sample - margin_of_error_pop, mean_sample + margin_of_error_pop)\n",
    "\n",
    "print(f\"Sample mean: {mean_sample:.2f} million characters\")\n",
    "print(f\"Known population standard deviation: {std_population:.2f} million characters\")\n",
    "print(f\"z-critical value: {z_critical:.3f}\")\n",
    "print(f\"99% confidence interval (z-distribution): {confidence_interval_pop}\")\n"
   ]
  },
  {
   "cell_type": "code",
   "execution_count": null,
   "id": "f1cbd198-0912-4731-be05-9ca23a75e468",
   "metadata": {
    "id": "f1cbd198-0912-4731-be05-9ca23a75e468"
   },
   "outputs": [],
   "source": []
  },
  {
   "cell_type": "code",
   "execution_count": null,
   "id": "7c6f6924-4a58-4486-8121-80f93f0cd663",
   "metadata": {},
   "outputs": [],
   "source": []
  }
 ],
 "metadata": {
  "colab": {
   "provenance": []
  },
  "kernelspec": {
   "display_name": "Python 3 (ipykernel)",
   "language": "python",
   "name": "python3"
  },
  "language_info": {
   "codemirror_mode": {
    "name": "ipython",
    "version": 3
   },
   "file_extension": ".py",
   "mimetype": "text/x-python",
   "name": "python",
   "nbconvert_exporter": "python",
   "pygments_lexer": "ipython3",
   "version": "3.12.7"
  }
 },
 "nbformat": 4,
 "nbformat_minor": 5
}
