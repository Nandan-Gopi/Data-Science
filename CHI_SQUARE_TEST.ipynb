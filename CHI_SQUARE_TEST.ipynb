{
  "cells": [
    {
      "cell_type": "code",
      "execution_count": null,
      "id": "3ed6c6ed-d8ad-4e62-813e-e8ef1143c88a",
      "metadata": {
        "id": "3ed6c6ed-d8ad-4e62-813e-e8ef1143c88a"
      },
      "outputs": [],
      "source": [
        "#State the Hypotheses:"
      ]
    },
    {
      "cell_type": "code",
      "execution_count": null,
      "id": "45f135b2-ec49-4047-beb1-b19f66fea43b",
      "metadata": {
        "id": "45f135b2-ec49-4047-beb1-b19f66fea43b",
        "outputId": "1542a089-d023-402e-eeed-ee573973f96e"
      },
      "outputs": [
        {
          "name": "stdout",
          "output_type": "stream",
          "text": [
            "Hypotheses for the Chi-Square Test for Independence:\n",
            "H₀: There is no significant association between the type of smart home device purchased (Smart Thermostat or Smart Light) and the customer's satisfaction level. (Device Type and Satisfaction Level are Independent)\n",
            "H₁: There is a significant association between the type of smart home device purchased (Smart Thermostat or Smart Light) and the customer's satisfaction level. (Device Type and Satisfaction Level are Not Independent)\n"
          ]
        }
      ],
      "source": [
        "def state_hypotheses():\n",
        "\n",
        "    null_hypothesis = \"H₀: There is no significant association between the type of smart home device purchased (Smart Thermostat or Smart Light) and the customer's satisfaction level. (Device Type and Satisfaction Level are Independent)\"\n",
        "    alternative_hypothesis = \"H₁: There is a significant association between the type of smart home device purchased (Smart Thermostat or Smart Light) and the customer's satisfaction level. (Device Type and Satisfaction Level are Not Independent)\"\n",
        "\n",
        "    print(\"Hypotheses for the Chi-Square Test for Independence:\")\n",
        "    print(null_hypothesis)\n",
        "    print(alternative_hypothesis)\n",
        "\n",
        "state_hypotheses()\n"
      ]
    },
    {
      "cell_type": "code",
      "execution_count": null,
      "id": "9acf572d-5015-47a7-8fca-5577dcc80923",
      "metadata": {
        "id": "9acf572d-5015-47a7-8fca-5577dcc80923"
      },
      "outputs": [],
      "source": [
        "#Compute the Chi-Square Statistic"
      ]
    },
    {
      "cell_type": "code",
      "execution_count": null,
      "id": "a17223a8-5c05-46e9-8353-0565a44e407e",
      "metadata": {
        "id": "a17223a8-5c05-46e9-8353-0565a44e407e",
        "outputId": "7a6a2884-9c5f-4e8b-ed8d-155eaf701260"
      },
      "outputs": [
        {
          "name": "stdout",
          "output_type": "stream",
          "text": [
            "Chi-Square Statistic: 5.6382\n",
            "P-Value: 0.2278\n",
            "Degrees of Freedom: 4\n",
            "Expected Frequencies:\n",
            "[[ 48.  72.]\n",
            " [ 72. 108.]\n",
            " [ 60.  90.]\n",
            " [ 32.  48.]\n",
            " [ 28.  42.]]\n"
          ]
        }
      ],
      "source": [
        "import numpy as np\n",
        "import scipy.stats as stats\n",
        "\n",
        "observed = np.array([[50, 70],\n",
        "                     [80, 100],\n",
        "                     [60, 90],\n",
        "                     [30, 50],\n",
        "                     [20, 50]])\n",
        "\n",
        "chi2_statistic, p_value, dof, expected = stats.chi2_contingency(observed)\n",
        "\n",
        "print(f\"Chi-Square Statistic: {chi2_statistic:.4f}\")\n",
        "print(f\"P-Value: {p_value:.4f}\")\n",
        "print(f\"Degrees of Freedom: {dof}\")\n",
        "print(\"Expected Frequencies:\")\n",
        "print(expected)\n"
      ]
    },
    {
      "cell_type": "code",
      "execution_count": null,
      "id": "21966493-5471-43c1-b1d2-6590f06095c3",
      "metadata": {
        "id": "21966493-5471-43c1-b1d2-6590f06095c3"
      },
      "outputs": [],
      "source": [
        "#Determine the Critical Value"
      ]
    },
    {
      "cell_type": "code",
      "execution_count": null,
      "id": "d6f9fab2-bb19-47a6-9f7e-cbd1ce53074d",
      "metadata": {
        "id": "d6f9fab2-bb19-47a6-9f7e-cbd1ce53074d",
        "outputId": "2b95df6f-9e26-4ffa-f09c-8ca63cd22ad1"
      },
      "outputs": [
        {
          "name": "stdout",
          "output_type": "stream",
          "text": [
            "Critical Chi-Square Value at alpha = 0.05 with 4 degrees of freedom: 9.4877\n"
          ]
        }
      ],
      "source": [
        "import scipy.stats as stats\n",
        "def critical_value(alpha, dof):\n",
        "    return stats.chi2.ppf(1 - alpha, dof)\n",
        "alpha = 0.05\n",
        "dof = 4\n",
        "chi_square_critical = critical_value(alpha, dof)\n",
        "print(f\"Critical Chi-Square Value at alpha = {alpha} with {dof} degrees of freedom: {chi_square_critical:.4f}\")\n"
      ]
    },
    {
      "cell_type": "code",
      "execution_count": null,
      "id": "73047b1c-2b72-4941-8cf2-d889f2ec696f",
      "metadata": {
        "id": "73047b1c-2b72-4941-8cf2-d889f2ec696f"
      },
      "outputs": [],
      "source": [
        "#Make a Decision:"
      ]
    },
    {
      "cell_type": "code",
      "execution_count": null,
      "id": "cd49e4cb-a593-426c-92ad-b00316364e84",
      "metadata": {
        "id": "cd49e4cb-a593-426c-92ad-b00316364e84",
        "outputId": "5e41acad-a2c4-4861-c320-6740f05a59a4"
      },
      "outputs": [
        {
          "name": "stdout",
          "output_type": "stream",
          "text": [
            "Critical Chi-Square Value at alpha = 0.05 with 4 degrees of freedom: 9.4877\n",
            "Reject the null hypothesis. There is a significant association between device type and satisfaction level.\n"
          ]
        }
      ],
      "source": [
        "import scipy.stats as stats\n",
        "def critical_value(alpha, dof):\n",
        "    return stats.chi2.ppf(1 - alpha, dof)\n",
        "alpha = 0.05\n",
        "dof = 4\n",
        "chi_square_statistic = 11.5926\n",
        "chi_square_critical = critical_value(alpha, dof)\n",
        "print(f\"Critical Chi-Square Value at alpha = {alpha} with {dof} degrees of freedom: {chi_square_critical:.4f}\")\n",
        "if chi_square_statistic > chi_square_critical:\n",
        "    print(\"Reject the null hypothesis. There is a significant association between device type and satisfaction level.\")\n",
        "else:\n",
        "    print(\"Fail to reject the null hypothesis. There is no significant association between device type and satisfaction level.\")"
      ]
    },
    {
      "cell_type": "code",
      "execution_count": null,
      "id": "f2df652f-0150-4f1f-a91e-1be22fcb0986",
      "metadata": {
        "id": "f2df652f-0150-4f1f-a91e-1be22fcb0986"
      },
      "outputs": [],
      "source": []
    }
  ],
  "metadata": {
    "kernelspec": {
      "display_name": "Python 3 (ipykernel)",
      "language": "python",
      "name": "python3"
    },
    "language_info": {
      "codemirror_mode": {
        "name": "ipython",
        "version": 3
      },
      "file_extension": ".py",
      "mimetype": "text/x-python",
      "name": "python",
      "nbconvert_exporter": "python",
      "pygments_lexer": "ipython3",
      "version": "3.12.4"
    },
    "colab": {
      "provenance": []
    }
  },
  "nbformat": 4,
  "nbformat_minor": 5
}