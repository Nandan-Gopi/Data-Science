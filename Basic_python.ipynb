{
 "cells": [
  {
   "cell_type": "code",
   "execution_count": 1,
   "id": "63489d3e-5bc5-47cc-888f-9a823211f2c5",
   "metadata": {
    "id": "63489d3e-5bc5-47cc-888f-9a823211f2c5"
   },
   "outputs": [],
   "source": [
    "#Write a Python program that checks whether a given number is prime or not.\n",
    "#A prime number is a natural number greater than 1 that has no positive divisors other than 1 and itself."
   ]
  },
  {
   "cell_type": "code",
   "execution_count": 17,
   "id": "fc778cca-d547-4bea-bbc3-f1e5c7fc3bf0",
   "metadata": {
    "id": "fc778cca-d547-4bea-bbc3-f1e5c7fc3bf0",
    "outputId": "fe37f78c-86f6-4941-a759-d2314abb5cb2"
   },
   "outputs": [
    {
     "name": "stdin",
     "output_type": "stream",
     "text": [
      "Enter the number:  11\n"
     ]
    },
    {
     "name": "stdout",
     "output_type": "stream",
     "text": [
      "11 is a prime number.\n"
     ]
    }
   ],
   "source": [
    "def is_prime(number):\n",
    "    # Check if the number is less than or equal to 1\n",
    "    if number <= 1:\n",
    "        return False\n",
    "\n",
    "    # Check for factors from 2 to the square root of the number\n",
    "    for i in range(2, int(number ** 0.5) + 1):\n",
    "        if number % i == 0:\n",
    "            return False\n",
    "\n",
    "    return True\n",
    "\n",
    "# Input: number to check\n",
    "num = int(input(\"Enter the number: \"))\n",
    "\n",
    "# Output: check if the number is prime\n",
    "if is_prime(num):\n",
    "    print(f\"{num} is a prime number.\")\n",
    "else:\n",
    "    print(f\"{num} is not a prime number.\")\n"
   ]
  },
  {
   "cell_type": "code",
   "execution_count": 18,
   "id": "cff03fbc-aeb1-4cb6-8d4e-9488531e685e",
   "metadata": {},
   "outputs": [
    {
     "name": "stdin",
     "output_type": "stream",
     "text": [
      "Enter the number:  65\n"
     ]
    },
    {
     "name": "stdout",
     "output_type": "stream",
     "text": [
      "65 is not a prime number.\n"
     ]
    }
   ],
   "source": [
    "def is_prime(number):\n",
    "    # Check if the number is less than or equal to 1\n",
    "    if number <= 1:\n",
    "        return False\n",
    "\n",
    "    # Check for factors from 2 to the square root of the number\n",
    "    for i in range(2, int(number ** 0.5) + 1):\n",
    "        if number % i == 0:\n",
    "            return False\n",
    "\n",
    "    return True\n",
    "\n",
    "# Input: number to check\n",
    "num = int(input(\"Enter the number: \"))\n",
    "\n",
    "# Output: check if the number is prime\n",
    "if is_prime(num):\n",
    "    print(f\"{num} is a prime number.\")\n",
    "else:\n",
    "    print(f\"{num} is not a prime number.\")\n"
   ]
  },
  {
   "cell_type": "code",
   "execution_count": null,
   "id": "b2ef8016-ae71-4324-aa56-12ab5b2a2f24",
   "metadata": {
    "id": "b2ef8016-ae71-4324-aa56-12ab5b2a2f24"
   },
   "outputs": [],
   "source": [
    "#Develop a Python program that generates two random numbers and asks the user to enter the product of these numbers.\n",
    "#The program should then check if the user's answer is correct and display an appropriate message."
   ]
  },
  {
   "cell_type": "code",
   "execution_count": 16,
   "id": "927dbb7f-4a18-41c2-8080-5ceaa5e7d26f",
   "metadata": {
    "id": "927dbb7f-4a18-41c2-8080-5ceaa5e7d26f",
    "outputId": "837f1522-b386-4282-c34b-a20f1622ece7"
   },
   "outputs": [
    {
     "name": "stdin",
     "output_type": "stream",
     "text": [
      "What is 2 x 6?  12\n"
     ]
    },
    {
     "name": "stdout",
     "output_type": "stream",
     "text": [
      "Great! Well done.\n"
     ]
    }
   ],
   "source": [
    "import random\n",
    "\n",
    "def multiplication_quiz():\n",
    "\n",
    "    num1 = random.randint(1, 10)\n",
    "    num2 = random.randint(1, 10)\n",
    "\n",
    "\n",
    "    correct_ans = num1 * num2\n",
    "\n",
    "\n",
    "    user_ans = int(input(f\"What is {num1} x {num2}? \"))\n",
    "\n",
    "\n",
    "    if user_ans == correct_ans:\n",
    "        print(\"Great! Well done.\")\n",
    "    else:\n",
    "        print(f\"Wrong! The Right answer is {correct_ans}.\")\n",
    "\n",
    "\n",
    "multiplication_quiz()"
   ]
  },
  {
   "cell_type": "code",
   "execution_count": 15,
   "id": "788eadde-e2f8-4f8d-9999-13e84dabc3cd",
   "metadata": {},
   "outputs": [
    {
     "name": "stdin",
     "output_type": "stream",
     "text": [
      "What is 4 x 7?  29\n"
     ]
    },
    {
     "name": "stdout",
     "output_type": "stream",
     "text": [
      "Wrong! The Right answer is 28.\n"
     ]
    }
   ],
   "source": [
    "import random\n",
    "\n",
    "def multiplication_quiz():\n",
    "\n",
    "    num1 = random.randint(1, 10)\n",
    "    num2 = random.randint(1, 10)\n",
    "\n",
    "\n",
    "    correct_ans = num1 * num2\n",
    "\n",
    "\n",
    "    user_ans = int(input(f\"What is {num1} x {num2}? \"))\n",
    "\n",
    "\n",
    "    if user_ans == correct_ans:\n",
    "        print(\"Great! Well done.\")\n",
    "    else:\n",
    "        print(f\"Wrong! The Right answer is {correct_ans}.\")\n",
    "\n",
    "\n",
    "multiplication_quiz()"
   ]
  },
  {
   "cell_type": "code",
   "execution_count": null,
   "id": "13bae3bd-fd91-40d5-a7f7-137c1a02e646",
   "metadata": {
    "id": "13bae3bd-fd91-40d5-a7f7-137c1a02e646"
   },
   "outputs": [],
   "source": [
    "#Create a Python script that prints the squares of all even or odd numbers within the range of 100 to 200.\n",
    "#Choose either even or odd numbers and document your choice in the code."
   ]
  },
  {
   "cell_type": "code",
   "execution_count": 12,
   "id": "e8d195d6-50ab-4944-87d3-b8873eaf316f",
   "metadata": {
    "id": "e8d195d6-50ab-4944-87d3-b8873eaf316f",
    "outputId": "2cecc55c-fecf-4b09-8f00-aa8a8a621c72"
   },
   "outputs": [
    {
     "name": "stdout",
     "output_type": "stream",
     "text": [
      "The square of 50 is 2500\n",
      "The square of 52 is 2704\n",
      "The square of 54 is 2916\n",
      "The square of 56 is 3136\n",
      "The square of 58 is 3364\n",
      "The square of 60 is 3600\n",
      "The square of 62 is 3844\n",
      "The square of 64 is 4096\n",
      "The square of 66 is 4356\n",
      "The square of 68 is 4624\n",
      "The square of 70 is 4900\n",
      "The square of 72 is 5184\n",
      "The square of 74 is 5476\n",
      "The square of 76 is 5776\n",
      "The square of 78 is 6084\n",
      "The square of 80 is 6400\n",
      "The square of 82 is 6724\n",
      "The square of 84 is 7056\n",
      "The square of 86 is 7396\n",
      "The square of 88 is 7744\n",
      "The square of 90 is 8100\n",
      "The square of 92 is 8464\n",
      "The square of 94 is 8836\n",
      "The square of 96 is 9216\n",
      "The square of 98 is 9604\n",
      "The square of 100 is 10000\n",
      "The square of 102 is 10404\n",
      "The square of 104 is 10816\n",
      "The square of 106 is 11236\n",
      "The square of 108 is 11664\n",
      "The square of 110 is 12100\n",
      "The square of 112 is 12544\n",
      "The square of 114 is 12996\n",
      "The square of 116 is 13456\n",
      "The square of 118 is 13924\n",
      "The square of 120 is 14400\n",
      "The square of 122 is 14884\n",
      "The square of 124 is 15376\n",
      "The square of 126 is 15876\n",
      "The square of 128 is 16384\n",
      "The square of 130 is 16900\n",
      "The square of 132 is 17424\n",
      "The square of 134 is 17956\n",
      "The square of 136 is 18496\n",
      "The square of 138 is 19044\n",
      "The square of 140 is 19600\n",
      "The square of 142 is 20164\n",
      "The square of 144 is 20736\n",
      "The square of 146 is 21316\n",
      "The square of 148 is 21904\n"
     ]
    }
   ],
   "source": [
    "def print_even_squares():\n",
    "\n",
    "    for num in range(50, 150):\n",
    "\n",
    "        if num % 2 == 0:\n",
    "\n",
    "            print(f\"The square of {num} is {num ** 2}\")\n",
    "\n",
    "print_even_squares()\n"
   ]
  },
  {
   "cell_type": "code",
   "execution_count": null,
   "id": "16ae2910-7c60-4875-b21c-dcd63ff96dc7",
   "metadata": {
    "id": "16ae2910-7c60-4875-b21c-dcd63ff96dc7"
   },
   "outputs": [],
   "source": [
    "#write a program to count the number of words in a given text"
   ]
  },
  {
   "cell_type": "code",
   "execution_count": 19,
   "id": "b643ad97-4083-4b54-a148-ff16f6c5229d",
   "metadata": {
    "id": "b643ad97-4083-4b54-a148-ff16f6c5229d",
    "outputId": "a92b0aeb-2cce-46fc-dd2d-7bfb6ebad8d7"
   },
   "outputs": [
    {
     "name": "stdin",
     "output_type": "stream",
     "text": [
      "Enter your text:  hi, how are you all ?\n"
     ]
    },
    {
     "name": "stdout",
     "output_type": "stream",
     "text": [
      "The number of words in the given text is: 6\n"
     ]
    }
   ],
   "source": [
    "def count_words(text):\n",
    "\n",
    "    words = text.split()\n",
    "    return len(words)\n",
    "\n",
    "\n",
    "user_input = input(\"Enter your text: \")\n",
    "\n",
    "\n",
    "word_count = count_words(user_input)\n",
    "print(f\"The number of words in the given text is: {word_count}\")\n"
   ]
  },
  {
   "cell_type": "code",
   "execution_count": null,
   "id": "33811ee4-ee30-4858-8555-a5a3355bcf9c",
   "metadata": {
    "id": "33811ee4-ee30-4858-8555-a5a3355bcf9c"
   },
   "outputs": [],
   "source": [
    "#Write a Python function called is_palindrome that takes a string as input\n",
    "#and returns True if the string is a palindrome, and False otherwise."
   ]
  },
  {
   "cell_type": "code",
   "execution_count": null,
   "id": "0a6ac743-7647-44a5-98f0-c10fc05ba75f",
   "metadata": {
    "id": "0a6ac743-7647-44a5-98f0-c10fc05ba75f",
    "outputId": "109ad096-7506-4dbd-deb2-161b7e1c00a9"
   },
   "outputs": [
    {
     "name": "stdin",
     "output_type": "stream",
     "text": [
      "Enter a string:  madam\n"
     ]
    },
    {
     "name": "stdout",
     "output_type": "stream",
     "text": [
      "\"madam\" is a palindrome.\n"
     ]
    }
   ],
   "source": [
    "def is_palindrome(s):\n",
    "\n",
    "    s = s.replace(\" \", \"\").lower()\n",
    "\n",
    "\n",
    "    return s == s[::-1]\n",
    "\n",
    "\n",
    "user_input = input(\"Enter a string: \")\n",
    "\n",
    "if is_palindrome(user_input):\n",
    "    print(f'\"{user_input}\" is a palindrome.')\n",
    "else:\n",
    "    print(f'\"{user_input}\" is not a palindrome.')\n"
   ]
  },
  {
   "cell_type": "code",
   "execution_count": 20,
   "id": "c47ff2cd-50d6-45df-a19b-e9f6b801a504",
   "metadata": {},
   "outputs": [
    {
     "name": "stdin",
     "output_type": "stream",
     "text": [
      "Enter a string:  nandan\n"
     ]
    },
    {
     "name": "stdout",
     "output_type": "stream",
     "text": [
      "\"nandan\" is not a palindrome.\n"
     ]
    }
   ],
   "source": [
    "def is_palindrome(s):\n",
    "\n",
    "    s = s.replace(\" \", \"\").lower()\n",
    "\n",
    "\n",
    "    return s == s[::-1]\n",
    "\n",
    "\n",
    "user_input = input(\"Enter a string: \")\n",
    "\n",
    "if is_palindrome(user_input):\n",
    "    print(f'\"{user_input}\" is a palindrome.')\n",
    "else:\n",
    "    print(f'\"{user_input}\" is not a palindrome.')\n"
   ]
  },
  {
   "cell_type": "code",
   "execution_count": null,
   "id": "627e8374-6c69-40c1-b1c5-493b50d066fd",
   "metadata": {},
   "outputs": [],
   "source": []
  }
 ],
 "metadata": {
  "colab": {
   "provenance": []
  },
  "kernelspec": {
   "display_name": "Python 3 (ipykernel)",
   "language": "python",
   "name": "python3"
  },
  "language_info": {
   "codemirror_mode": {
    "name": "ipython",
    "version": 3
   },
   "file_extension": ".py",
   "mimetype": "text/x-python",
   "name": "python",
   "nbconvert_exporter": "python",
   "pygments_lexer": "ipython3",
   "version": "3.12.7"
  }
 },
 "nbformat": 4,
 "nbformat_minor": 5
}
