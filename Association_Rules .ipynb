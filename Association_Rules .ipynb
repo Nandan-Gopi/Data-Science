{
 "cells": [
  {
   "cell_type": "code",
   "execution_count": 1,
   "id": "3b87445e-1d9d-4f96-acb5-a9ba283d17c3",
   "metadata": {
    "id": "3b87445e-1d9d-4f96-acb5-a9ba283d17c3"
   },
   "outputs": [],
   "source": [
    "import pandas as pd\n",
    "import numpy as np\n",
    "import matplotlib.pyplot as plt\n",
    "import seaborn as sns"
   ]
  },
  {
   "cell_type": "code",
   "execution_count": 2,
   "id": "FZnWNumxYnjM",
   "metadata": {
    "colab": {
     "base_uri": "https://localhost:8080/",
     "height": 73
    },
    "id": "FZnWNumxYnjM",
    "outputId": "fbd18811-4a8e-4dcc-e750-5384f614b1a2"
   },
   "outputs": [],
   "source": [
    "from google.colab import files\n",
    "uploaded = files.upload()"
   ]
  },
  {
   "cell_type": "code",
   "execution_count": 3,
   "id": "307bb091-e691-4e21-8558-bd05f7b1ec8c",
   "metadata": {
    "colab": {
     "base_uri": "https://localhost:8080/",
     "height": 441
    },
    "id": "307bb091-e691-4e21-8558-bd05f7b1ec8c",
    "outputId": "fef7dae7-87cb-422f-b0e0-16c8daf616b9"
   },
   "outputs": [
    {
     "data": {
      "text/html": [
       "<div>\n",
       "<style scoped>\n",
       "    .dataframe tbody tr th:only-of-type {\n",
       "        vertical-align: middle;\n",
       "    }\n",
       "\n",
       "    .dataframe tbody tr th {\n",
       "        vertical-align: top;\n",
       "    }\n",
       "\n",
       "    .dataframe thead th {\n",
       "        text-align: right;\n",
       "    }\n",
       "</style>\n",
       "<table border=\"1\" class=\"dataframe\">\n",
       "  <thead>\n",
       "    <tr style=\"text-align: right;\">\n",
       "      <th></th>\n",
       "      <th>shrimp,almonds,avocado,vegetables mix,green grapes,whole weat flour,yams,cottage cheese,energy drink,tomato juice,low fat yogurt,green tea,honey,salad,mineral water,salmon,antioxydant juice,frozen smoothie,spinach,olive oil</th>\n",
       "    </tr>\n",
       "  </thead>\n",
       "  <tbody>\n",
       "    <tr>\n",
       "      <th>0</th>\n",
       "      <td>burgers,meatballs,eggs</td>\n",
       "    </tr>\n",
       "    <tr>\n",
       "      <th>1</th>\n",
       "      <td>chutney</td>\n",
       "    </tr>\n",
       "    <tr>\n",
       "      <th>2</th>\n",
       "      <td>turkey,avocado</td>\n",
       "    </tr>\n",
       "    <tr>\n",
       "      <th>3</th>\n",
       "      <td>mineral water,milk,energy bar,whole wheat rice...</td>\n",
       "    </tr>\n",
       "    <tr>\n",
       "      <th>4</th>\n",
       "      <td>low fat yogurt</td>\n",
       "    </tr>\n",
       "    <tr>\n",
       "      <th>...</th>\n",
       "      <td>...</td>\n",
       "    </tr>\n",
       "    <tr>\n",
       "      <th>7495</th>\n",
       "      <td>butter,light mayo,fresh bread</td>\n",
       "    </tr>\n",
       "    <tr>\n",
       "      <th>7496</th>\n",
       "      <td>burgers,frozen vegetables,eggs,french fries,ma...</td>\n",
       "    </tr>\n",
       "    <tr>\n",
       "      <th>7497</th>\n",
       "      <td>chicken</td>\n",
       "    </tr>\n",
       "    <tr>\n",
       "      <th>7498</th>\n",
       "      <td>escalope,green tea</td>\n",
       "    </tr>\n",
       "    <tr>\n",
       "      <th>7499</th>\n",
       "      <td>eggs,frozen smoothie,yogurt cake,low fat yogurt</td>\n",
       "    </tr>\n",
       "  </tbody>\n",
       "</table>\n",
       "<p>7500 rows × 1 columns</p>\n",
       "</div>"
      ],
      "text/plain": [
       "     shrimp,almonds,avocado,vegetables mix,green grapes,whole weat flour,yams,cottage cheese,energy drink,tomato juice,low fat yogurt,green tea,honey,salad,mineral water,salmon,antioxydant juice,frozen smoothie,spinach,olive oil\n",
       "0                                burgers,meatballs,eggs                                                                                                                                                                             \n",
       "1                                               chutney                                                                                                                                                                             \n",
       "2                                        turkey,avocado                                                                                                                                                                             \n",
       "3     mineral water,milk,energy bar,whole wheat rice...                                                                                                                                                                             \n",
       "4                                        low fat yogurt                                                                                                                                                                             \n",
       "...                                                 ...                                                                                                                                                                             \n",
       "7495                      butter,light mayo,fresh bread                                                                                                                                                                             \n",
       "7496  burgers,frozen vegetables,eggs,french fries,ma...                                                                                                                                                                             \n",
       "7497                                            chicken                                                                                                                                                                             \n",
       "7498                                 escalope,green tea                                                                                                                                                                             \n",
       "7499    eggs,frozen smoothie,yogurt cake,low fat yogurt                                                                                                                                                                             \n",
       "\n",
       "[7500 rows x 1 columns]"
      ]
     },
     "execution_count": 3,
     "metadata": {},
     "output_type": "execute_result"
    }
   ],
   "source": [
    "df=pd.read_csv(r\"C:\\Users\\Nandan G\\python_practice\\Online retail.csv\")\n",
    "df"
   ]
  },
  {
   "cell_type": "code",
   "execution_count": 4,
   "id": "5a3d5b96-5e83-4439-a217-4198ec5fd1cc",
   "metadata": {
    "colab": {
     "base_uri": "https://localhost:8080/",
     "height": 224
    },
    "id": "5a3d5b96-5e83-4439-a217-4198ec5fd1cc",
    "outputId": "667cd9b8-66e1-4196-acd9-ea7378d7b561"
   },
   "outputs": [
    {
     "data": {
      "text/html": [
       "<div>\n",
       "<style scoped>\n",
       "    .dataframe tbody tr th:only-of-type {\n",
       "        vertical-align: middle;\n",
       "    }\n",
       "\n",
       "    .dataframe tbody tr th {\n",
       "        vertical-align: top;\n",
       "    }\n",
       "\n",
       "    .dataframe thead th {\n",
       "        text-align: right;\n",
       "    }\n",
       "</style>\n",
       "<table border=\"1\" class=\"dataframe\">\n",
       "  <thead>\n",
       "    <tr style=\"text-align: right;\">\n",
       "      <th></th>\n",
       "      <th>shrimp,almonds,avocado,vegetables mix,green grapes,whole weat flour,yams,cottage cheese,energy drink,tomato juice,low fat yogurt,green tea,honey,salad,mineral water,salmon,antioxydant juice,frozen smoothie,spinach,olive oil</th>\n",
       "    </tr>\n",
       "  </thead>\n",
       "  <tbody>\n",
       "    <tr>\n",
       "      <th>0</th>\n",
       "      <td>burgers,meatballs,eggs</td>\n",
       "    </tr>\n",
       "    <tr>\n",
       "      <th>1</th>\n",
       "      <td>chutney</td>\n",
       "    </tr>\n",
       "    <tr>\n",
       "      <th>2</th>\n",
       "      <td>turkey,avocado</td>\n",
       "    </tr>\n",
       "    <tr>\n",
       "      <th>3</th>\n",
       "      <td>mineral water,milk,energy bar,whole wheat rice...</td>\n",
       "    </tr>\n",
       "    <tr>\n",
       "      <th>4</th>\n",
       "      <td>low fat yogurt</td>\n",
       "    </tr>\n",
       "  </tbody>\n",
       "</table>\n",
       "</div>"
      ],
      "text/plain": [
       "  shrimp,almonds,avocado,vegetables mix,green grapes,whole weat flour,yams,cottage cheese,energy drink,tomato juice,low fat yogurt,green tea,honey,salad,mineral water,salmon,antioxydant juice,frozen smoothie,spinach,olive oil\n",
       "0                             burgers,meatballs,eggs                                                                                                                                                                             \n",
       "1                                            chutney                                                                                                                                                                             \n",
       "2                                     turkey,avocado                                                                                                                                                                             \n",
       "3  mineral water,milk,energy bar,whole wheat rice...                                                                                                                                                                             \n",
       "4                                     low fat yogurt                                                                                                                                                                             "
      ]
     },
     "execution_count": 4,
     "metadata": {},
     "output_type": "execute_result"
    }
   ],
   "source": [
    "df.head()"
   ]
  },
  {
   "cell_type": "code",
   "execution_count": 5,
   "id": "6047582e-50e9-4abb-b0a2-c27ebf0a68b4",
   "metadata": {
    "colab": {
     "base_uri": "https://localhost:8080/"
    },
    "id": "6047582e-50e9-4abb-b0a2-c27ebf0a68b4",
    "outputId": "06bf8109-c1c6-4e8d-f5a2-bc5cc09aa268"
   },
   "outputs": [
    {
     "data": {
      "text/plain": [
       "Index(['shrimp,almonds,avocado,vegetables mix,green grapes,whole weat flour,yams,cottage cheese,energy drink,tomato juice,low fat yogurt,green tea,honey,salad,mineral water,salmon,antioxydant juice,frozen smoothie,spinach,olive oil'], dtype='object')"
      ]
     },
     "execution_count": 5,
     "metadata": {},
     "output_type": "execute_result"
    }
   ],
   "source": [
    "df.columns"
   ]
  },
  {
   "cell_type": "code",
   "execution_count": 6,
   "id": "bc5d2a66-7fc8-42af-8e84-db369d5b44df",
   "metadata": {
    "colab": {
     "base_uri": "https://localhost:8080/"
    },
    "id": "bc5d2a66-7fc8-42af-8e84-db369d5b44df",
    "outputId": "14564930-ebdf-4adb-c1ad-dbbfef5600f2"
   },
   "outputs": [
    {
     "name": "stdout",
     "output_type": "stream",
     "text": [
      "<class 'pandas.core.frame.DataFrame'>\n",
      "RangeIndex: 7500 entries, 0 to 7499\n",
      "Data columns (total 1 columns):\n",
      " #   Column                                                                                                                                                                                                                           Non-Null Count  Dtype \n",
      "---  ------                                                                                                                                                                                                                           --------------  ----- \n",
      " 0   shrimp,almonds,avocado,vegetables mix,green grapes,whole weat flour,yams,cottage cheese,energy drink,tomato juice,low fat yogurt,green tea,honey,salad,mineral water,salmon,antioxydant juice,frozen smoothie,spinach,olive oil  7500 non-null   object\n",
      "dtypes: object(1)\n",
      "memory usage: 58.7+ KB\n"
     ]
    }
   ],
   "source": [
    "df.info()"
   ]
  },
  {
   "cell_type": "code",
   "execution_count": 7,
   "id": "3e97dd79-cfe7-481b-872c-74e31fdc97cd",
   "metadata": {
    "colab": {
     "base_uri": "https://localhost:8080/",
     "height": 192
    },
    "id": "3e97dd79-cfe7-481b-872c-74e31fdc97cd",
    "outputId": "8236bd54-338e-4411-c8cc-6b3474b0c820"
   },
   "outputs": [
    {
     "data": {
      "text/html": [
       "<div>\n",
       "<style scoped>\n",
       "    .dataframe tbody tr th:only-of-type {\n",
       "        vertical-align: middle;\n",
       "    }\n",
       "\n",
       "    .dataframe tbody tr th {\n",
       "        vertical-align: top;\n",
       "    }\n",
       "\n",
       "    .dataframe thead th {\n",
       "        text-align: right;\n",
       "    }\n",
       "</style>\n",
       "<table border=\"1\" class=\"dataframe\">\n",
       "  <thead>\n",
       "    <tr style=\"text-align: right;\">\n",
       "      <th></th>\n",
       "      <th>shrimp,almonds,avocado,vegetables mix,green grapes,whole weat flour,yams,cottage cheese,energy drink,tomato juice,low fat yogurt,green tea,honey,salad,mineral water,salmon,antioxydant juice,frozen smoothie,spinach,olive oil</th>\n",
       "    </tr>\n",
       "  </thead>\n",
       "  <tbody>\n",
       "    <tr>\n",
       "      <th>count</th>\n",
       "      <td>7500</td>\n",
       "    </tr>\n",
       "    <tr>\n",
       "      <th>unique</th>\n",
       "      <td>5175</td>\n",
       "    </tr>\n",
       "    <tr>\n",
       "      <th>top</th>\n",
       "      <td>cookies</td>\n",
       "    </tr>\n",
       "    <tr>\n",
       "      <th>freq</th>\n",
       "      <td>223</td>\n",
       "    </tr>\n",
       "  </tbody>\n",
       "</table>\n",
       "</div>"
      ],
      "text/plain": [
       "       shrimp,almonds,avocado,vegetables mix,green grapes,whole weat flour,yams,cottage cheese,energy drink,tomato juice,low fat yogurt,green tea,honey,salad,mineral water,salmon,antioxydant juice,frozen smoothie,spinach,olive oil\n",
       "count                                                7500                                                                                                                                                                             \n",
       "unique                                               5175                                                                                                                                                                             \n",
       "top                                               cookies                                                                                                                                                                             \n",
       "freq                                                  223                                                                                                                                                                             "
      ]
     },
     "execution_count": 7,
     "metadata": {},
     "output_type": "execute_result"
    }
   ],
   "source": [
    "df.describe()"
   ]
  },
  {
   "cell_type": "code",
   "execution_count": 8,
   "id": "c9e65c11-1d43-439e-bc9c-aa7e51db1dc9",
   "metadata": {
    "colab": {
     "base_uri": "https://localhost:8080/",
     "height": 441
    },
    "id": "c9e65c11-1d43-439e-bc9c-aa7e51db1dc9",
    "outputId": "1eaad214-d485-4d8e-fb40-e7749f00030c"
   },
   "outputs": [
    {
     "data": {
      "text/html": [
       "<div>\n",
       "<style scoped>\n",
       "    .dataframe tbody tr th:only-of-type {\n",
       "        vertical-align: middle;\n",
       "    }\n",
       "\n",
       "    .dataframe tbody tr th {\n",
       "        vertical-align: top;\n",
       "    }\n",
       "\n",
       "    .dataframe thead th {\n",
       "        text-align: right;\n",
       "    }\n",
       "</style>\n",
       "<table border=\"1\" class=\"dataframe\">\n",
       "  <thead>\n",
       "    <tr style=\"text-align: right;\">\n",
       "      <th></th>\n",
       "      <th>shrimp,almonds,avocado,vegetables mix,green grapes,whole weat flour,yams,cottage cheese,energy drink,tomato juice,low fat yogurt,green tea,honey,salad,mineral water,salmon,antioxydant juice,frozen smoothie,spinach,olive oil</th>\n",
       "    </tr>\n",
       "  </thead>\n",
       "  <tbody>\n",
       "    <tr>\n",
       "      <th>0</th>\n",
       "      <td>False</td>\n",
       "    </tr>\n",
       "    <tr>\n",
       "      <th>1</th>\n",
       "      <td>False</td>\n",
       "    </tr>\n",
       "    <tr>\n",
       "      <th>2</th>\n",
       "      <td>False</td>\n",
       "    </tr>\n",
       "    <tr>\n",
       "      <th>3</th>\n",
       "      <td>False</td>\n",
       "    </tr>\n",
       "    <tr>\n",
       "      <th>4</th>\n",
       "      <td>False</td>\n",
       "    </tr>\n",
       "    <tr>\n",
       "      <th>...</th>\n",
       "      <td>...</td>\n",
       "    </tr>\n",
       "    <tr>\n",
       "      <th>7495</th>\n",
       "      <td>False</td>\n",
       "    </tr>\n",
       "    <tr>\n",
       "      <th>7496</th>\n",
       "      <td>False</td>\n",
       "    </tr>\n",
       "    <tr>\n",
       "      <th>7497</th>\n",
       "      <td>False</td>\n",
       "    </tr>\n",
       "    <tr>\n",
       "      <th>7498</th>\n",
       "      <td>False</td>\n",
       "    </tr>\n",
       "    <tr>\n",
       "      <th>7499</th>\n",
       "      <td>False</td>\n",
       "    </tr>\n",
       "  </tbody>\n",
       "</table>\n",
       "<p>7500 rows × 1 columns</p>\n",
       "</div>"
      ],
      "text/plain": [
       "      shrimp,almonds,avocado,vegetables mix,green grapes,whole weat flour,yams,cottage cheese,energy drink,tomato juice,low fat yogurt,green tea,honey,salad,mineral water,salmon,antioxydant juice,frozen smoothie,spinach,olive oil\n",
       "0                                                 False                                                                                                                                                                              \n",
       "1                                                 False                                                                                                                                                                              \n",
       "2                                                 False                                                                                                                                                                              \n",
       "3                                                 False                                                                                                                                                                              \n",
       "4                                                 False                                                                                                                                                                              \n",
       "...                                                 ...                                                                                                                                                                              \n",
       "7495                                              False                                                                                                                                                                              \n",
       "7496                                              False                                                                                                                                                                              \n",
       "7497                                              False                                                                                                                                                                              \n",
       "7498                                              False                                                                                                                                                                              \n",
       "7499                                              False                                                                                                                                                                              \n",
       "\n",
       "[7500 rows x 1 columns]"
      ]
     },
     "execution_count": 8,
     "metadata": {},
     "output_type": "execute_result"
    }
   ],
   "source": [
    "df.isnull()"
   ]
  },
  {
   "cell_type": "code",
   "execution_count": 9,
   "id": "45b90571-3644-45be-bff8-c538e20b8cc3",
   "metadata": {
    "colab": {
     "base_uri": "https://localhost:8080/",
     "height": 133
    },
    "id": "45b90571-3644-45be-bff8-c538e20b8cc3",
    "outputId": "f8c351fa-52a6-44a9-ffc9-7bc54c32c6d9"
   },
   "outputs": [
    {
     "data": {
      "text/plain": [
       "shrimp,almonds,avocado,vegetables mix,green grapes,whole weat flour,yams,cottage cheese,energy drink,tomato juice,low fat yogurt,green tea,honey,salad,mineral water,salmon,antioxydant juice,frozen smoothie,spinach,olive oil    0\n",
       "dtype: int64"
      ]
     },
     "execution_count": 9,
     "metadata": {},
     "output_type": "execute_result"
    }
   ],
   "source": [
    "df.isnull().sum()"
   ]
  },
  {
   "cell_type": "code",
   "execution_count": 10,
   "id": "242c6020-28ac-4166-8042-91636299942c",
   "metadata": {
    "colab": {
     "base_uri": "https://localhost:8080/"
    },
    "id": "242c6020-28ac-4166-8042-91636299942c",
    "outputId": "aa20ace3-9fb8-4be9-ddb3-c182070d7394"
   },
   "outputs": [
    {
     "data": {
      "text/plain": [
       "0"
      ]
     },
     "execution_count": 10,
     "metadata": {},
     "output_type": "execute_result"
    }
   ],
   "source": [
    "df.isnull().sum().sum()"
   ]
  },
  {
   "cell_type": "code",
   "execution_count": 11,
   "id": "7554e53c-e650-4fcc-846f-981e40ee33ff",
   "metadata": {
    "colab": {
     "base_uri": "https://localhost:8080/",
     "height": 441
    },
    "id": "7554e53c-e650-4fcc-846f-981e40ee33ff",
    "outputId": "ca1858c7-a3b2-436c-aae1-9667a3e471fb"
   },
   "outputs": [
    {
     "data": {
      "text/html": [
       "<div>\n",
       "<style scoped>\n",
       "    .dataframe tbody tr th:only-of-type {\n",
       "        vertical-align: middle;\n",
       "    }\n",
       "\n",
       "    .dataframe tbody tr th {\n",
       "        vertical-align: top;\n",
       "    }\n",
       "\n",
       "    .dataframe thead th {\n",
       "        text-align: right;\n",
       "    }\n",
       "</style>\n",
       "<table border=\"1\" class=\"dataframe\">\n",
       "  <thead>\n",
       "    <tr style=\"text-align: right;\">\n",
       "      <th></th>\n",
       "      <th>shrimp,almonds,avocado,vegetables mix,green grapes,whole weat flour,yams,cottage cheese,energy drink,tomato juice,low fat yogurt,green tea,honey,salad,mineral water,salmon,antioxydant juice,frozen smoothie,spinach,olive oil</th>\n",
       "    </tr>\n",
       "  </thead>\n",
       "  <tbody>\n",
       "    <tr>\n",
       "      <th>0</th>\n",
       "      <td>burgers,meatballs,eggs</td>\n",
       "    </tr>\n",
       "    <tr>\n",
       "      <th>1</th>\n",
       "      <td>chutney</td>\n",
       "    </tr>\n",
       "    <tr>\n",
       "      <th>2</th>\n",
       "      <td>turkey,avocado</td>\n",
       "    </tr>\n",
       "    <tr>\n",
       "      <th>3</th>\n",
       "      <td>mineral water,milk,energy bar,whole wheat rice...</td>\n",
       "    </tr>\n",
       "    <tr>\n",
       "      <th>4</th>\n",
       "      <td>low fat yogurt</td>\n",
       "    </tr>\n",
       "    <tr>\n",
       "      <th>...</th>\n",
       "      <td>...</td>\n",
       "    </tr>\n",
       "    <tr>\n",
       "      <th>7492</th>\n",
       "      <td>burgers,salmon,pancakes,french fries,frozen sm...</td>\n",
       "    </tr>\n",
       "    <tr>\n",
       "      <th>7493</th>\n",
       "      <td>turkey,burgers,dessert wine,shrimp,pasta,tomat...</td>\n",
       "    </tr>\n",
       "    <tr>\n",
       "      <th>7495</th>\n",
       "      <td>butter,light mayo,fresh bread</td>\n",
       "    </tr>\n",
       "    <tr>\n",
       "      <th>7496</th>\n",
       "      <td>burgers,frozen vegetables,eggs,french fries,ma...</td>\n",
       "    </tr>\n",
       "    <tr>\n",
       "      <th>7499</th>\n",
       "      <td>eggs,frozen smoothie,yogurt cake,low fat yogurt</td>\n",
       "    </tr>\n",
       "  </tbody>\n",
       "</table>\n",
       "<p>5175 rows × 1 columns</p>\n",
       "</div>"
      ],
      "text/plain": [
       "     shrimp,almonds,avocado,vegetables mix,green grapes,whole weat flour,yams,cottage cheese,energy drink,tomato juice,low fat yogurt,green tea,honey,salad,mineral water,salmon,antioxydant juice,frozen smoothie,spinach,olive oil\n",
       "0                                burgers,meatballs,eggs                                                                                                                                                                             \n",
       "1                                               chutney                                                                                                                                                                             \n",
       "2                                        turkey,avocado                                                                                                                                                                             \n",
       "3     mineral water,milk,energy bar,whole wheat rice...                                                                                                                                                                             \n",
       "4                                        low fat yogurt                                                                                                                                                                             \n",
       "...                                                 ...                                                                                                                                                                             \n",
       "7492  burgers,salmon,pancakes,french fries,frozen sm...                                                                                                                                                                             \n",
       "7493  turkey,burgers,dessert wine,shrimp,pasta,tomat...                                                                                                                                                                             \n",
       "7495                      butter,light mayo,fresh bread                                                                                                                                                                             \n",
       "7496  burgers,frozen vegetables,eggs,french fries,ma...                                                                                                                                                                             \n",
       "7499    eggs,frozen smoothie,yogurt cake,low fat yogurt                                                                                                                                                                             \n",
       "\n",
       "[5175 rows x 1 columns]"
      ]
     },
     "execution_count": 11,
     "metadata": {},
     "output_type": "execute_result"
    }
   ],
   "source": [
    "df.drop_duplicates()"
   ]
  },
  {
   "cell_type": "markdown",
   "id": "b15df44a-00f2-4399-bb59-c720cdc0b5f3",
   "metadata": {
    "id": "b15df44a-00f2-4399-bb59-c720cdc0b5f3"
   },
   "source": [
    "Association Rule Mining:"
   ]
  },
  {
   "cell_type": "code",
   "execution_count": 12,
   "id": "6c5537eb-e96b-4753-b2c8-5122333dfd1f",
   "metadata": {
    "colab": {
     "base_uri": "https://localhost:8080/"
    },
    "id": "6c5537eb-e96b-4753-b2c8-5122333dfd1f",
    "outputId": "257c5dda-34ff-45c3-eec5-7b019b7a0a80"
   },
   "outputs": [
    {
     "name": "stdout",
     "output_type": "stream",
     "text": [
      "Requirement already satisfied: pandas in c:\\users\\nandan g\\anaconda3\\lib\\site-packages (2.2.2)\n",
      "Requirement already satisfied: mlxtend in c:\\users\\nandan g\\appdata\\roaming\\python\\python312\\site-packages (0.23.4)\n",
      "Requirement already satisfied: numpy>=1.26.0 in c:\\users\\nandan g\\anaconda3\\lib\\site-packages (from pandas) (1.26.4)\n",
      "Requirement already satisfied: python-dateutil>=2.8.2 in c:\\users\\nandan g\\anaconda3\\lib\\site-packages (from pandas) (2.9.0.post0)\n",
      "Requirement already satisfied: pytz>=2020.1 in c:\\users\\nandan g\\anaconda3\\lib\\site-packages (from pandas) (2024.1)\n",
      "Requirement already satisfied: tzdata>=2022.7 in c:\\users\\nandan g\\anaconda3\\lib\\site-packages (from pandas) (2023.3)\n",
      "Requirement already satisfied: scipy>=1.2.1 in c:\\users\\nandan g\\appdata\\roaming\\python\\python312\\site-packages (from mlxtend) (1.14.0)\n",
      "Requirement already satisfied: scikit-learn>=1.3.1 in c:\\users\\nandan g\\appdata\\roaming\\python\\python312\\site-packages (from mlxtend) (1.5.1)\n",
      "Requirement already satisfied: matplotlib>=3.0.0 in c:\\users\\nandan g\\appdata\\roaming\\python\\python312\\site-packages (from mlxtend) (3.10.1)\n",
      "Requirement already satisfied: joblib>=0.13.2 in c:\\users\\nandan g\\appdata\\roaming\\python\\python312\\site-packages (from mlxtend) (1.4.2)\n",
      "Requirement already satisfied: contourpy>=1.0.1 in c:\\users\\nandan g\\appdata\\roaming\\python\\python312\\site-packages (from matplotlib>=3.0.0->mlxtend) (1.3.1)\n",
      "Requirement already satisfied: cycler>=0.10 in c:\\users\\nandan g\\appdata\\roaming\\python\\python312\\site-packages (from matplotlib>=3.0.0->mlxtend) (0.12.1)\n",
      "Requirement already satisfied: fonttools>=4.22.0 in c:\\users\\nandan g\\appdata\\roaming\\python\\python312\\site-packages (from matplotlib>=3.0.0->mlxtend) (4.57.0)\n",
      "Requirement already satisfied: kiwisolver>=1.3.1 in c:\\users\\nandan g\\appdata\\roaming\\python\\python312\\site-packages (from matplotlib>=3.0.0->mlxtend) (1.4.8)\n",
      "Requirement already satisfied: packaging>=20.0 in c:\\users\\nandan g\\appdata\\roaming\\python\\python312\\site-packages (from matplotlib>=3.0.0->mlxtend) (24.2)\n",
      "Requirement already satisfied: pillow>=8 in c:\\users\\nandan g\\appdata\\roaming\\python\\python312\\site-packages (from matplotlib>=3.0.0->mlxtend) (11.1.0)\n",
      "Requirement already satisfied: pyparsing>=2.3.1 in c:\\users\\nandan g\\appdata\\roaming\\python\\python312\\site-packages (from matplotlib>=3.0.0->mlxtend) (3.2.3)\n",
      "Requirement already satisfied: six>=1.5 in c:\\users\\nandan g\\anaconda3\\lib\\site-packages (from python-dateutil>=2.8.2->pandas) (1.16.0)\n",
      "Requirement already satisfied: threadpoolctl>=3.1.0 in c:\\users\\nandan g\\appdata\\roaming\\python\\python312\\site-packages (from scikit-learn>=1.3.1->mlxtend) (3.5.0)\n",
      "Note: you may need to restart the kernel to use updated packages.\n"
     ]
    }
   ],
   "source": [
    "pip install pandas mlxtend\n"
   ]
  },
  {
   "cell_type": "code",
   "execution_count": 13,
   "id": "b1c9fd63-172d-49f1-95bf-716a0887c78a",
   "metadata": {
    "colab": {
     "base_uri": "https://localhost:8080/"
    },
    "id": "b1c9fd63-172d-49f1-95bf-716a0887c78a",
    "outputId": "a215101b-be02-4271-8cfb-d7ac7e41a561"
   },
   "outputs": [
    {
     "name": "stdout",
     "output_type": "stream",
     "text": [
      "Defaulting to user installation because normal site-packages is not writeable\n",
      "Requirement already satisfied: apyori in c:\\users\\nandan g\\appdata\\roaming\\python\\python312\\site-packages (1.1.2)\n"
     ]
    }
   ],
   "source": [
    "!pip install apyori"
   ]
  },
  {
   "cell_type": "code",
   "execution_count": 14,
   "id": "d98cef3d-aad7-438a-9567-611e96ba624e",
   "metadata": {
    "id": "d98cef3d-aad7-438a-9567-611e96ba624e"
   },
   "outputs": [],
   "source": [
    "from apyori import apriori"
   ]
  },
  {
   "cell_type": "code",
   "execution_count": 15,
   "id": "c3934183-800c-4130-89cf-18f55b05dd3f",
   "metadata": {
    "id": "c3934183-800c-4130-89cf-18f55b05dd3f"
   },
   "outputs": [],
   "source": [
    "import pandas as pd\n",
    "import numpy as np\n",
    "import matplotlib.pyplot as plt\n",
    "from mlxtend.frequent_patterns import apriori\n",
    "from mlxtend.preprocessing import TransactionEncoder\n",
    "from mlxtend.frequent_patterns import association_rules"
   ]
  },
  {
   "cell_type": "code",
   "execution_count": 16,
   "id": "9070f185-663e-4c3f-b969-4e8f5840e92c",
   "metadata": {
    "colab": {
     "base_uri": "https://localhost:8080/",
     "height": 278
    },
    "id": "9070f185-663e-4c3f-b969-4e8f5840e92c",
    "outputId": "b68607f0-01db-43bc-f5ca-7d306139b8d6"
   },
   "outputs": [
    {
     "data": {
      "text/html": [
       "<div>\n",
       "<style scoped>\n",
       "    .dataframe tbody tr th:only-of-type {\n",
       "        vertical-align: middle;\n",
       "    }\n",
       "\n",
       "    .dataframe tbody tr th {\n",
       "        vertical-align: top;\n",
       "    }\n",
       "\n",
       "    .dataframe thead th {\n",
       "        text-align: right;\n",
       "    }\n",
       "</style>\n",
       "<table border=\"1\" class=\"dataframe\">\n",
       "  <thead>\n",
       "    <tr style=\"text-align: right;\">\n",
       "      <th></th>\n",
       "      <th>shrimp,almonds,avocado,vegetables mix,green grapes,whole weat flour,yams,cottage cheese,energy drink,tomato juice,low fat yogurt,green tea,honey,salad,mineral water,salmon,antioxydant juice,frozen smoothie,spinach,olive oil</th>\n",
       "    </tr>\n",
       "  </thead>\n",
       "  <tbody>\n",
       "    <tr>\n",
       "      <th>0</th>\n",
       "      <td>burgers,meatballs,eggs</td>\n",
       "    </tr>\n",
       "    <tr>\n",
       "      <th>1</th>\n",
       "      <td>chutney</td>\n",
       "    </tr>\n",
       "    <tr>\n",
       "      <th>2</th>\n",
       "      <td>turkey,avocado</td>\n",
       "    </tr>\n",
       "    <tr>\n",
       "      <th>3</th>\n",
       "      <td>mineral water,milk,energy bar,whole wheat rice...</td>\n",
       "    </tr>\n",
       "    <tr>\n",
       "      <th>4</th>\n",
       "      <td>low fat yogurt</td>\n",
       "    </tr>\n",
       "  </tbody>\n",
       "</table>\n",
       "</div>"
      ],
      "text/plain": [
       "  shrimp,almonds,avocado,vegetables mix,green grapes,whole weat flour,yams,cottage cheese,energy drink,tomato juice,low fat yogurt,green tea,honey,salad,mineral water,salmon,antioxydant juice,frozen smoothie,spinach,olive oil\n",
       "0                             burgers,meatballs,eggs                                                                                                                                                                             \n",
       "1                                            chutney                                                                                                                                                                             \n",
       "2                                     turkey,avocado                                                                                                                                                                             \n",
       "3  mineral water,milk,energy bar,whole wheat rice...                                                                                                                                                                             \n",
       "4                                     low fat yogurt                                                                                                                                                                             "
      ]
     },
     "execution_count": 16,
     "metadata": {},
     "output_type": "execute_result"
    }
   ],
   "source": [
    "df=pd.read_excel(r\"C:\\Users\\Nandan G\\python_practice\\Online retail.xlsx\")\n",
    "df.head()"
   ]
  },
  {
   "cell_type": "code",
   "execution_count": 17,
   "id": "401139ec-949e-418f-9bcb-4d43a19296b8",
   "metadata": {
    "colab": {
     "base_uri": "https://localhost:8080/",
     "height": 261
    },
    "id": "401139ec-949e-418f-9bcb-4d43a19296b8",
    "outputId": "84cd8e29-8b67-40c6-d7ad-ab72bc8af3c7"
   },
   "outputs": [
    {
     "data": {
      "text/html": [
       "<div>\n",
       "<style scoped>\n",
       "    .dataframe tbody tr th:only-of-type {\n",
       "        vertical-align: middle;\n",
       "    }\n",
       "\n",
       "    .dataframe tbody tr th {\n",
       "        vertical-align: top;\n",
       "    }\n",
       "\n",
       "    .dataframe thead th {\n",
       "        text-align: right;\n",
       "    }\n",
       "</style>\n",
       "<table border=\"1\" class=\"dataframe\">\n",
       "  <thead>\n",
       "    <tr style=\"text-align: right;\">\n",
       "      <th></th>\n",
       "      <th>0</th>\n",
       "    </tr>\n",
       "  </thead>\n",
       "  <tbody>\n",
       "    <tr>\n",
       "      <th>0</th>\n",
       "      <td>shrimp,almonds,avocado,vegetables mix,green gr...</td>\n",
       "    </tr>\n",
       "    <tr>\n",
       "      <th>1</th>\n",
       "      <td>burgers,meatballs,eggs</td>\n",
       "    </tr>\n",
       "    <tr>\n",
       "      <th>2</th>\n",
       "      <td>chutney</td>\n",
       "    </tr>\n",
       "    <tr>\n",
       "      <th>3</th>\n",
       "      <td>turkey,avocado</td>\n",
       "    </tr>\n",
       "    <tr>\n",
       "      <th>4</th>\n",
       "      <td>mineral water,milk,energy bar,whole wheat rice...</td>\n",
       "    </tr>\n",
       "  </tbody>\n",
       "</table>\n",
       "</div>"
      ],
      "text/plain": [
       "                                                   0\n",
       "0  shrimp,almonds,avocado,vegetables mix,green gr...\n",
       "1                             burgers,meatballs,eggs\n",
       "2                                            chutney\n",
       "3                                     turkey,avocado\n",
       "4  mineral water,milk,energy bar,whole wheat rice..."
      ]
     },
     "execution_count": 17,
     "metadata": {},
     "output_type": "execute_result"
    }
   ],
   "source": [
    "df=pd.read_csv(r\"C:\\Users\\Nandan G\\python_practice\\Online retail.csv\", header=None)\n",
    "df.head()"
   ]
  },
  {
   "cell_type": "code",
   "execution_count": 18,
   "id": "2629e6f8-809c-41e2-97dd-1e8e5c17a31b",
   "metadata": {
    "colab": {
     "base_uri": "https://localhost:8080/"
    },
    "id": "2629e6f8-809c-41e2-97dd-1e8e5c17a31b",
    "outputId": "21aa001e-d7f5-42b3-870d-f4725265b2a2"
   },
   "outputs": [
    {
     "data": {
      "text/plain": [
       "False"
      ]
     },
     "execution_count": 18,
     "metadata": {},
     "output_type": "execute_result"
    }
   ],
   "source": [
    "df.isnull().values.any()\n"
   ]
  },
  {
   "cell_type": "code",
   "execution_count": 19,
   "id": "c7fa2073-59bc-4fa9-8557-df635ee34b2b",
   "metadata": {
    "colab": {
     "base_uri": "https://localhost:8080/",
     "height": 170
    },
    "id": "c7fa2073-59bc-4fa9-8557-df635ee34b2b",
    "outputId": "0beca820-5344-4ba5-b2a4-f7fbe0aaa411"
   },
   "outputs": [
    {
     "data": {
      "text/plain": [
       "0    0\n",
       "dtype: int64"
      ]
     },
     "execution_count": 19,
     "metadata": {},
     "output_type": "execute_result"
    }
   ],
   "source": [
    "df.isnull().sum()"
   ]
  },
  {
   "cell_type": "code",
   "execution_count": 20,
   "id": "cea35fe7-f81e-4631-a69a-cebf3206a947",
   "metadata": {
    "colab": {
     "base_uri": "https://localhost:8080/"
    },
    "id": "cea35fe7-f81e-4631-a69a-cebf3206a947",
    "outputId": "49ff6b8f-116d-4067-aaf5-0da3f0e949de"
   },
   "outputs": [
    {
     "name": "stdout",
     "output_type": "stream",
     "text": [
      "Defaulting to user installation because normal site-packages is not writeable\n",
      "Requirement already satisfied: pandas in c:\\program files\\python312\\lib\\site-packages (2.2.2)\n",
      "Requirement already satisfied: openpyxl in c:\\users\\nandan g\\appdata\\roaming\\python\\python312\\site-packages (3.1.5)\n",
      "Requirement already satisfied: mlxtend in c:\\users\\nandan g\\appdata\\roaming\\python\\python312\\site-packages (0.23.4)\n",
      "Requirement already satisfied: numpy>=1.26.0 in c:\\program files\\python312\\lib\\site-packages (from pandas) (1.26.4)\n",
      "Requirement already satisfied: python-dateutil>=2.8.2 in c:\\program files\\python312\\lib\\site-packages (from pandas) (2.9.0.post0)\n",
      "Requirement already satisfied: pytz>=2020.1 in c:\\program files\\python312\\lib\\site-packages (from pandas) (2024.1)\n",
      "Requirement already satisfied: tzdata>=2022.7 in c:\\program files\\python312\\lib\\site-packages (from pandas) (2024.1)\n",
      "Requirement already satisfied: et-xmlfile in c:\\users\\nandan g\\appdata\\roaming\\python\\python312\\site-packages (from openpyxl) (2.0.0)\n",
      "Requirement already satisfied: scipy>=1.2.1 in c:\\users\\nandan g\\appdata\\roaming\\python\\python312\\site-packages (from mlxtend) (1.14.0)\n",
      "Requirement already satisfied: scikit-learn>=1.3.1 in c:\\users\\nandan g\\appdata\\roaming\\python\\python312\\site-packages (from mlxtend) (1.5.1)\n",
      "Requirement already satisfied: matplotlib>=3.0.0 in c:\\users\\nandan g\\appdata\\roaming\\python\\python312\\site-packages (from mlxtend) (3.10.1)\n",
      "Requirement already satisfied: joblib>=0.13.2 in c:\\users\\nandan g\\appdata\\roaming\\python\\python312\\site-packages (from mlxtend) (1.4.2)\n",
      "Requirement already satisfied: contourpy>=1.0.1 in c:\\users\\nandan g\\appdata\\roaming\\python\\python312\\site-packages (from matplotlib>=3.0.0->mlxtend) (1.3.1)\n",
      "Requirement already satisfied: cycler>=0.10 in c:\\users\\nandan g\\appdata\\roaming\\python\\python312\\site-packages (from matplotlib>=3.0.0->mlxtend) (0.12.1)\n",
      "Requirement already satisfied: fonttools>=4.22.0 in c:\\users\\nandan g\\appdata\\roaming\\python\\python312\\site-packages (from matplotlib>=3.0.0->mlxtend) (4.57.0)\n",
      "Requirement already satisfied: kiwisolver>=1.3.1 in c:\\users\\nandan g\\appdata\\roaming\\python\\python312\\site-packages (from matplotlib>=3.0.0->mlxtend) (1.4.8)\n",
      "Requirement already satisfied: packaging>=20.0 in c:\\users\\nandan g\\appdata\\roaming\\python\\python312\\site-packages (from matplotlib>=3.0.0->mlxtend) (24.2)\n",
      "Requirement already satisfied: pillow>=8 in c:\\users\\nandan g\\appdata\\roaming\\python\\python312\\site-packages (from matplotlib>=3.0.0->mlxtend) (11.1.0)\n",
      "Requirement already satisfied: pyparsing>=2.3.1 in c:\\users\\nandan g\\appdata\\roaming\\python\\python312\\site-packages (from matplotlib>=3.0.0->mlxtend) (3.2.3)\n",
      "Requirement already satisfied: six>=1.5 in c:\\program files\\python312\\lib\\site-packages (from python-dateutil>=2.8.2->pandas) (1.16.0)\n",
      "Requirement already satisfied: threadpoolctl>=3.1.0 in c:\\users\\nandan g\\appdata\\roaming\\python\\python312\\site-packages (from scikit-learn>=1.3.1->mlxtend) (3.5.0)\n"
     ]
    }
   ],
   "source": [
    "!pip install pandas openpyxl mlxtend\n"
   ]
  },
  {
   "cell_type": "code",
   "execution_count": 21,
   "id": "1e9d7b19-bdd9-4dd5-be0b-4cb5dde8b8bc",
   "metadata": {
    "colab": {
     "base_uri": "https://localhost:8080/"
    },
    "id": "1e9d7b19-bdd9-4dd5-be0b-4cb5dde8b8bc",
    "outputId": "a731f31a-4382-48b7-fa18-2aed44c64bd6"
   },
   "outputs": [
    {
     "name": "stdout",
     "output_type": "stream",
     "text": [
      "                                                   0\n",
      "0  shrimp,almonds,avocado,vegetables mix,green gr...\n",
      "1                             burgers,meatballs,eggs\n",
      "2                                            chutney\n",
      "3                                     turkey,avocado\n",
      "4  mineral water,milk,energy bar,whole wheat rice...\n",
      "Index([0], dtype='int64')\n",
      "    asparagus  almonds  antioxydant juice  asparagus  avocado  babies food  \\\n",
      "0       False     True               True      False     True        False   \n",
      "1       False    False              False      False    False        False   \n",
      "2       False    False              False      False    False        False   \n",
      "3       False    False              False      False     True        False   \n",
      "4       False    False              False      False    False        False   \n",
      "\n",
      "   bacon  barbecue sauce  black tea  blueberries  ...  turkey  vegetables mix  \\\n",
      "0  False           False      False        False  ...   False            True   \n",
      "1  False           False      False        False  ...   False           False   \n",
      "2  False           False      False        False  ...   False           False   \n",
      "3  False           False      False        False  ...    True           False   \n",
      "4  False           False      False        False  ...   False           False   \n",
      "\n",
      "   water spray  white wine  whole weat flour  whole wheat pasta  \\\n",
      "0        False       False              True              False   \n",
      "1        False       False             False              False   \n",
      "2        False       False             False              False   \n",
      "3        False       False             False              False   \n",
      "4        False       False             False              False   \n",
      "\n",
      "   whole wheat rice   yams  yogurt cake  zucchini  \n",
      "0             False   True        False     False  \n",
      "1             False  False        False     False  \n",
      "2             False  False        False     False  \n",
      "3             False  False        False     False  \n",
      "4              True  False        False     False  \n",
      "\n",
      "[5 rows x 120 columns]\n"
     ]
    }
   ],
   "source": [
    "import pandas as pd\n",
    "from mlxtend.preprocessing import TransactionEncoder\n",
    "from mlxtend.frequent_patterns import apriori, association_rules\n",
    "print(df.head())  # Check the first few rows\n",
    "print(df.columns)  # Check the columns of the DataFrame\n",
    "\n",
    "# Step 1: Data Preprocessing\n",
    "# Convert the first column to string type to avoid issues with .str accessor\n",
    "df.iloc[:, 0] = df.iloc[:, 0].astype(str)\n",
    "\n",
    "# Create the 'items' column by splitting the string into lists\n",
    "df['items'] = df.iloc[:, 0].str.split(',')\n",
    "\n",
    "# Step 2: Create a Transaction Matrix\n",
    "encoder = TransactionEncoder()\n",
    "encoded_df = encoder.fit(df['items']).transform(df['items'])\n",
    "transaction_matrix = pd.DataFrame(encoded_df, columns=encoder.columns_)\n",
    "\n",
    "# Display the first few rows of the transaction matrix\n",
    "print(transaction_matrix.head())\n",
    "\n",
    "\n"
   ]
  },
  {
   "cell_type": "code",
   "execution_count": 22,
   "id": "026d831d-00fd-453f-97b1-d9539d49797f",
   "metadata": {
    "colab": {
     "base_uri": "https://localhost:8080/"
    },
    "id": "026d831d-00fd-453f-97b1-d9539d49797f",
    "outputId": "a61d64a4-feb3-4817-db1e-028719f23dc2"
   },
   "outputs": [
    {
     "name": "stdout",
     "output_type": "stream",
     "text": [
      "Frequent itemsets found: 103\n"
     ]
    }
   ],
   "source": [
    "# Step 3: Apply the Apriori Algorithm\n",
    "frequent_itemsets = apriori(transaction_matrix, min_support=0.02, use_colnames=True)\n",
    "\n",
    "# Display the frequent itemsets\n",
    "print(\"Frequent itemsets found:\", len(frequent_itemsets))\n"
   ]
  },
  {
   "cell_type": "code",
   "execution_count": 23,
   "id": "368381e2-5cde-4bca-bd9a-736c2e8a45d6",
   "metadata": {
    "colab": {
     "base_uri": "https://localhost:8080/"
    },
    "id": "368381e2-5cde-4bca-bd9a-736c2e8a45d6",
    "outputId": "1e46cb40-92c3-4697-b2ab-f6b235cdd4d5"
   },
   "outputs": [
    {
     "name": "stdout",
     "output_type": "stream",
     "text": [
      "     antecedents      consequents  antecedent support  consequent support  \\\n",
      "0  (ground beef)  (mineral water)            0.098254            0.238368   \n",
      "1    (olive oil)  (mineral water)            0.065858            0.238368   \n",
      "2         (soup)  (mineral water)            0.050527            0.238368   \n",
      "\n",
      "    support  confidence      lift  representativity  leverage  conviction  \\\n",
      "0  0.040928    0.416554  1.747522               1.0  0.017507    1.305401   \n",
      "1  0.027596    0.419028  1.757904               1.0  0.011898    1.310962   \n",
      "2  0.023064    0.456464  1.914955               1.0  0.011020    1.401255   \n",
      "\n",
      "   zhangs_metric   jaccard  certainty  kulczynski  \n",
      "0       0.474369  0.138413   0.233952    0.294127  \n",
      "1       0.461536  0.099759   0.237201    0.267400  \n",
      "2       0.503221  0.086760   0.286354    0.276610  \n"
     ]
    }
   ],
   "source": [
    "# Step 4: Generate Association Rules\n",
    "rules = association_rules(frequent_itemsets, metric=\"confidence\", min_threshold=0.4, support_only=False)\n",
    "\n",
    "# Display the association rules\n",
    "print(rules)\n"
   ]
  },
  {
   "cell_type": "code",
   "execution_count": 24,
   "id": "cfeaecd2-4507-454a-9df0-938cd6ca88e5",
   "metadata": {
    "colab": {
     "base_uri": "https://localhost:8080/"
    },
    "id": "cfeaecd2-4507-454a-9df0-938cd6ca88e5",
    "outputId": "c77502fe-aa9f-4b9a-bbf4-8b9cb3f2c461"
   },
   "outputs": [
    {
     "name": "stdout",
     "output_type": "stream",
     "text": [
      "Frequent Itemsets:\n",
      "      support                           itemsets\n",
      "0    0.020397                          (almonds)\n",
      "1    0.033329                          (avocado)\n",
      "2    0.033729                         (brownies)\n",
      "3    0.087188                          (burgers)\n",
      "4    0.030129                           (butter)\n",
      "..        ...                                ...\n",
      "98   0.020131  (mineral water, whole wheat rice)\n",
      "99   0.022930             (spaghetti, olive oil)\n",
      "100  0.025197              (pancakes, spaghetti)\n",
      "101  0.021197                (shrimp, spaghetti)\n",
      "102  0.020931              (tomatoes, spaghetti)\n",
      "\n",
      "[103 rows x 2 columns]\n",
      "\n",
      "Association Rules:\n",
      "     antecedents      consequents  antecedent support  consequent support  \\\n",
      "0  (ground beef)  (mineral water)            0.098254            0.238368   \n",
      "1    (olive oil)  (mineral water)            0.065858            0.238368   \n",
      "2         (soup)  (mineral water)            0.050527            0.238368   \n",
      "\n",
      "    support  confidence      lift  representativity  leverage  conviction  \\\n",
      "0  0.040928    0.416554  1.747522               1.0  0.017507    1.305401   \n",
      "1  0.027596    0.419028  1.757904               1.0  0.011898    1.310962   \n",
      "2  0.023064    0.456464  1.914955               1.0  0.011020    1.401255   \n",
      "\n",
      "   zhangs_metric   jaccard  certainty  kulczynski  \n",
      "0       0.474369  0.138413   0.233952    0.294127  \n",
      "1       0.461536  0.099759   0.237201    0.267400  \n",
      "2       0.503221  0.086760   0.286354    0.276610  \n",
      "\n",
      "Filtered Association Rules:\n",
      "     antecedents      consequents   support  confidence      lift\n",
      "2         (soup)  (mineral water)  0.023064    0.456464  1.914955\n",
      "1    (olive oil)  (mineral water)  0.027596    0.419028  1.757904\n",
      "0  (ground beef)  (mineral water)  0.040928    0.416554  1.747522\n"
     ]
    }
   ],
   "source": [
    "import pandas as pd\n",
    "from mlxtend.preprocessing import TransactionEncoder\n",
    "from mlxtend.frequent_patterns import apriori, association_rules\n",
    "\n",
    "# Step 1: Data Preprocessing\n",
    "# Convert the first column to string type to avoid issues with .str accessor\n",
    "df.iloc[:, 0] = df.iloc[:, 0].astype(str)\n",
    "\n",
    "# Create the 'items' column by splitting the string into lists\n",
    "df['items'] = df.iloc[:, 0].str.split(',')\n",
    "\n",
    "# Step 2: Create a Transaction Matrix\n",
    "encoder = TransactionEncoder()\n",
    "encoded_df = encoder.fit(df['items']).transform(df['items'])\n",
    "transaction_matrix = pd.DataFrame(encoded_df, columns=encoder.columns_)\n",
    "\n",
    "# Step 3: Apply the Apriori Algorithm\n",
    "# Set a minimum support threshold (e.g., 0.02 means 2% of transactions)\n",
    "frequent_itemsets = apriori(transaction_matrix, min_support=0.02, use_colnames=True)\n",
    "\n",
    "# Display the frequent itemsets\n",
    "print(\"Frequent Itemsets:\")\n",
    "print(frequent_itemsets)\n",
    "\n",
    "# Step 4: Generate Association Rules\n",
    "# Generate rules with a minimum confidence threshold (e.g., 0.4 means 40%)\n",
    "rules = association_rules(frequent_itemsets, metric=\"confidence\", min_threshold=0.4)\n",
    "\n",
    "# Display the association rules\n",
    "print(\"\\nAssociation Rules:\")\n",
    "print(rules)\n",
    "\n",
    "# Optional: Display only certain columns for clarity\n",
    "print(\"\\nFiltered Association Rules:\")\n",
    "filtered_rules = rules[['antecedents', 'consequents', 'support', 'confidence', 'lift']]\n",
    "print(filtered_rules.sort_values(by='lift', ascending=False))\n"
   ]
  },
  {
   "cell_type": "code",
   "execution_count": 25,
   "id": "6dd3493b-e6fb-44c9-8201-8d24da235bd6",
   "metadata": {},
   "outputs": [
    {
     "name": "stdout",
     "output_type": "stream",
     "text": [
      "     antecedents      consequents  antecedent support  consequent support  \\\n",
      "0  (ground beef)  (mineral water)            0.098254            0.238368   \n",
      "1    (olive oil)  (mineral water)            0.065858            0.238368   \n",
      "2         (soup)  (mineral water)            0.050527            0.238368   \n",
      "\n",
      "    support  confidence      lift  representativity  leverage  conviction  \\\n",
      "0  0.040928    0.416554  1.747522               1.0  0.017507    1.305401   \n",
      "1  0.027596    0.419028  1.757904               1.0  0.011898    1.310962   \n",
      "2  0.023064    0.456464  1.914955               1.0  0.011020    1.401255   \n",
      "\n",
      "   zhangs_metric   jaccard  certainty  kulczynski  \n",
      "0       0.474369  0.138413   0.233952    0.294127  \n",
      "1       0.461536  0.099759   0.237201    0.267400  \n",
      "2       0.503221  0.086760   0.286354    0.276610  \n"
     ]
    }
   ],
   "source": [
    "if not frequent_itemsets.empty:\n",
    "    rules = association_rules(frequent_itemsets, metric=\"confidence\", min_threshold=0.4)\n",
    "    print(rules)\n",
    "else:\n",
    "    print(\"No frequent itemsets found. Try lowering the support threshold.\")\n"
   ]
  },
  {
   "cell_type": "markdown",
   "id": "f7bd9dcb-4732-4212-9241-fecdc9b2c5f7",
   "metadata": {
    "id": "f7bd9dcb-4732-4212-9241-fecdc9b2c5f7"
   },
   "source": [
    "Analysis and Interpretation"
   ]
  },
  {
   "cell_type": "code",
   "execution_count": 26,
   "id": "4a504541-16b2-482a-ba63-ced3783951fc",
   "metadata": {
    "colab": {
     "base_uri": "https://localhost:8080/",
     "height": 792
    },
    "id": "4a504541-16b2-482a-ba63-ced3783951fc",
    "outputId": "1ba15463-03e0-4f1e-93be-938dbc4d995c"
   },
   "outputs": [
    {
     "name": "stdout",
     "output_type": "stream",
     "text": [
      "Top 10 Rules by Lift:\n",
      "     antecedents      consequents  antecedent support  consequent support  \\\n",
      "2         (soup)  (mineral water)            0.050527            0.238368   \n",
      "1    (olive oil)  (mineral water)            0.065858            0.238368   \n",
      "0  (ground beef)  (mineral water)            0.098254            0.238368   \n",
      "\n",
      "    support  confidence      lift  representativity  leverage  conviction  \\\n",
      "2  0.023064    0.456464  1.914955               1.0  0.011020    1.401255   \n",
      "1  0.027596    0.419028  1.757904               1.0  0.011898    1.310962   \n",
      "0  0.040928    0.416554  1.747522               1.0  0.017507    1.305401   \n",
      "\n",
      "   zhangs_metric   jaccard  certainty  kulczynski  \n",
      "2       0.503221  0.086760   0.286354    0.276610  \n",
      "1       0.461536  0.099759   0.237201    0.267400  \n",
      "0       0.474369  0.138413   0.233952    0.294127  \n",
      "\n",
      "Interesting Rules (Filtered):\n",
      "Empty DataFrame\n",
      "Columns: [antecedents, consequents, support, confidence, lift]\n",
      "Index: []\n"
     ]
    },
    {
     "name": "stderr",
     "output_type": "stream",
     "text": [
      "C:\\Users\\Nandan G\\AppData\\Local\\Temp\\ipykernel_7320\\3526830626.py:25: UserWarning: No artists with labels found to put in legend.  Note that artists whose label start with an underscore are ignored when legend() is called with no argument.\n",
      "  plt.legend(title='Lift', bbox_to_anchor=(1.05, 1), loc='upper left')\n"
     ]
    },
    {
     "data": {
      "image/png": "[encoded data removed]",
      "text/plain": [
       "<Figure size 1000x600 with 1 Axes>"
      ]
     },
     "metadata": {},
     "output_type": "display_data"
    }
   ],
   "source": [
    "import matplotlib.pyplot as plt\n",
    "import seaborn as sns\n",
    "\n",
    "# Display the rules sorted by lift\n",
    "sorted_rules = rules.sort_values(by='lift', ascending=False)\n",
    "\n",
    "# Show top 10 rules\n",
    "print(\"Top 10 Rules by Lift:\")\n",
    "print(sorted_rules.head(10))\n",
    "\n",
    "# Filter interesting rules based on specific criteria\n",
    "interesting_rules = sorted_rules[(sorted_rules['support'] >= 0.05) &\n",
    "                                  (sorted_rules['confidence'] >= 0.7) &\n",
    "                                  (sorted_rules['lift'] >= 1.5)]\n",
    "\n",
    "print(\"\\nInteresting Rules (Filtered):\")\n",
    "print(interesting_rules[['antecedents', 'consequents', 'support', 'confidence', 'lift']])\n",
    "\n",
    "# Visualizing the rules\n",
    "plt.figure(figsize=(10, 6))\n",
    "sns.scatterplot(data=interesting_rules, x='support', y='confidence', size='lift', sizes=(20, 400), hue='lift', alpha=0.6)\n",
    "plt.title('Association Rules Analysis')\n",
    "plt.xlabel('Support')\n",
    "plt.ylabel('Confidence')\n",
    "plt.legend(title='Lift', bbox_to_anchor=(1.05, 1), loc='upper left')\n",
    "plt.grid()\n",
    "plt.show()\n"
   ]
  },
  {
   "cell_type": "code",
   "execution_count": 27,
   "id": "d720d570-feff-4b70-84fc-793be98fa7c0",
   "metadata": {},
   "outputs": [
    {
     "data": {
      "image/png": "[encoded data removed]",
      "text/plain": [
       "<Figure size 1000x600 with 1 Axes>"
      ]
     },
     "metadata": {},
     "output_type": "display_data"
    }
   ],
   "source": [
    "if not rules.empty:\n",
    "    # Scatter plot as before\n",
    "    plt.figure(figsize=(10, 6))\n",
    "    sns.scatterplot(data=rules, x='support', y='confidence', size='lift',\n",
    "                    sizes=(20, 400), hue='lift', alpha=0.6)\n",
    "    plt.title('Association Rules Analysis')\n",
    "    plt.xlabel('Support')\n",
    "    plt.ylabel('Confidence')\n",
    "    plt.legend(title='Lift', bbox_to_anchor=(1.05, 1), loc='upper left')\n",
    "    plt.grid()\n",
    "    plt.show()\n",
    "else:\n",
    "    print(\"No rules available for visualization. Try adjusting thresholds.\")\n"
   ]
  },
  {
   "cell_type": "code",
   "execution_count": 28,
   "id": "5605a0e1-86e7-4901-a91a-1341abff4a25",
   "metadata": {
    "colab": {
     "base_uri": "https://localhost:8080/"
    },
    "id": "5605a0e1-86e7-4901-a91a-1341abff4a25",
    "outputId": "c63f9b7f-9ad4-448d-ecb0-32b7293b002b"
   },
   "outputs": [],
   "source": [
    "# Interview Questions"
   ]
  },
  {
   "cell_type": "markdown",
   "id": "e206e36e-6d52-43fe-b7f9-2fdaa9b1f583",
   "metadata": {
    "id": "e206e36e-6d52-43fe-b7f9-2fdaa9b1f583"
   },
   "source": [
    "1.\tWhat is lift and why is it important in Association rules?\n",
    "ANS- Lift is a measure used in association rule mining to evaluate the strength of a rule. It is defined as the ratio of the observed support of the rule to the expected support if the two items were independent\n",
    "\n",
    "Importance of Lift:\n",
    "-Independence Evaluation: Lift helps determine if the occurrence of one item affects the likelihood of another item being purchased. A lift value greater than 1 indicates a positive association, meaning that the presence of A increases the likelihood of B, while a value less than 1 suggests a negative association.\n",
    "\n",
    "-Rule Strength: It provides insight into the strength of the association rule. Higher lift values indicate stronger relationships, which can be more valuable for making recommendations or understanding customer behavior.\n",
    "\n",
    "-Decision Making: Businesses can use lift to identify significant product associations, leading to better marketing strategies, inventory management, and personalized recommendations.?\n"
   ]
  },
  {
   "cell_type": "markdown",
   "id": "bdd9c043-aa69-4f0b-9c2f-1b18a47664c5",
   "metadata": {
    "id": "bdd9c043-aa69-4f0b-9c2f-1b18a47664c5"
   },
   "source": [
    "2.What is support and Confidence. How do you calculate them?\n",
    "ANS-Support quantifies the overall frequency of an itemset within the dataset, while Confidence assesses the reliability of the inference made by the association rule.\n",
    "\n",
    "For an itemset\n",
    "𝐴\n",
    "A:\n",
    "Support\n",
    "(\n",
    "𝐴\n",
    ")\n",
    "=\n",
    "Number of transactions containing\n",
    "𝐴\n",
    "Total number of transactions\n",
    "Support(A)=\n",
    "Total number of transactions\n",
    "Number of transactions containing A\n",
    "​\n",
    "\n",
    "For a rule\n",
    "𝐴\n",
    "→\n",
    "𝐵\n",
    "A→B:\n",
    "Support\n",
    "(\n",
    "𝐴\n",
    "→\n",
    "𝐵\n",
    ")\n",
    "=\n",
    "Number of transactions containing both\n",
    "𝐴\n",
    " and\n",
    "𝐵\n",
    "Total number of transactions\n",
    "Support(A→B)=\n",
    "Total number of transactions\n",
    "Number of transactions containing both A and B\n",
    "​\n",
    " Confidence calculation\n",
    "𝐴\n",
    "→\n",
    "𝐵\n",
    "A→B.\n",
    "\n",
    "Calculation:\n",
    "\n",
    "For a rule\n",
    "𝐴\n",
    "→\n",
    "𝐵\n",
    "A→B:\n",
    "Confidence\n",
    "(\n",
    "𝐴\n",
    "→\n",
    "𝐵\n",
    ")\n",
    "=\n",
    "Support\n",
    "(\n",
    "𝐴\n",
    "∩\n",
    "𝐵\n",
    ")\n",
    "Support\n",
    "(\n",
    "𝐴\n",
    ")\n",
    "=\n",
    "Number of transactions containing both\n",
    "𝐴\n",
    " and\n",
    "𝐵\n",
    "Number of transactions containing\n",
    "𝐴\n",
    "Confidence(A→B)=\n",
    "Support(A)\n",
    "Support(A∩B)\n",
    "​\n",
    " =\n",
    "Number of transactions containing A\n",
    "Number of transactions containing both A and B\n",
    "​\n",
    "\n",
    "Example: Continuing with the previous example, if item A appears in 40 transactions, the confidence for the rule\n",
    "𝐴\n",
    "→\n",
    "𝐵\n",
    "A→B would be:\n",
    "\n",
    "Confidence\n",
    "(\n",
    "𝐴\n",
    "→\n",
    "𝐵\n",
    ")\n",
    "=\n",
    "20\n",
    "40\n",
    "=\n",
    "0.5\n",
    " or\n",
    "50\n",
    "%\n",
    "Confidence(A→B)=\n",
    "40\n",
    "20\n",
    "​\n",
    " =0.5 or 50%"
   ]
  },
  {
   "cell_type": "markdown",
   "id": "72c59dc3-a50e-477e-93ef-05a8db7f7e27",
   "metadata": {
    "id": "4323c9ad-a1a7-4a77-bed1-a2f1f440b4e8"
   },
   "source": [
    "3.\tWhat are some limitations or challenges of Association rules mining?\n",
    "ANS- limitations\n",
    "-Interpretability\n",
    "-Parameter Sensitivity\n",
    "-Scalability\n",
    "-Sparsity of Data\n",
    "-Dynamic Data\n",
    "-Lack of Causality\n",
    "-Data Quality\n",
    "-Handling Continuous Variables\n",
    "-Overfitting"
   ]
  }
 ],
 "metadata": {
  "colab": {
   "provenance": []
  },
  "kernelspec": {
   "display_name": "Python 3 (ipykernel)",
   "language": "python",
   "name": "python3"
  },
  "language_info": {
   "codemirror_mode": {
    "name": "ipython",
    "version": 3
   },
   "file_extension": ".py",
   "mimetype": "text/x-python",
   "name": "python",
   "nbconvert_exporter": "python",
   "pygments_lexer": "ipython3",
   "version": "3.12.7"
  }
 },
 "nbformat": 4,
 "nbformat_minor": 5
}
